{
 "cells": [
  {
   "cell_type": "code",
   "execution_count": 15,
   "metadata": {},
   "outputs": [],
   "source": [
    "# Dependencies and Setup\n",
    "import pandas as pd\n",
    "import numpy as np\n",
    "import os\n",
    "import re\n",
    "import string"
   ]
  },
  {
   "cell_type": "markdown",
   "metadata": {},
   "source": [
    "## Data Extract and Clean-up  - Google PlayStore."
   ]
  },
  {
   "cell_type": "code",
   "execution_count": 16,
   "metadata": {
    "scrolled": true
   },
   "outputs": [],
   "source": [
    "# Import the google play store data. \n",
    "csv_path1 = \"Resources/googleplaystore.csv\"\n",
    "GooglePlayStore_original = pd.read_csv(csv_path1, encoding = 'UTF-8')\n",
    "\n",
    "#GooglePlayStore_original.head()\n",
    "\n",
    "G_Record_count = GooglePlayStore_original.count()\n",
    "#print(G_Record_count)\n",
    "\n",
    "# Delete unnecessary columns from Google Play Store file\n",
    "\n",
    "GooglePlayStore_df = GooglePlayStore_original.drop(['Installs', 'Last Updated', 'Current Ver', 'Android Ver'], axis=1)\n",
    "GPS_df=(GooglePlayStore_df[['App', 'Size', 'Price','Type','Reviews','Rating','Content Rating','Genres','Category']])\n",
    "GPS_df=GPS_df.assign(currency=\"USD\" )\n",
    "\n",
    "# Column name convertion\n",
    "GooglePlayStore_cols_df = GPS_df.rename(\n",
    "   columns={\"App\": \"App_Name\",\n",
    "            \"Size\": \"App_Size\",\n",
    "            \"currency\":\"currency\",\n",
    "            \"Price\": \"App_Price\",\n",
    "            \"Type\": \"Type\",\n",
    "            \"Reviews\": \"Review_count\",\n",
    "            \"Rating\": \"User_Rating\",\n",
    "            \"Content Rating\": \"Content_Rating\",\n",
    "            \"Category\" : \"Category\"\n",
    "           })\n",
    "\n",
    "\n",
    "GooglePlayStore_cols_df['App_Price'].fillna(0, inplace=True)\n",
    "GooglePlayStore_cols_df[\"App_Price\"] = GooglePlayStore_cols_df[\"App_Price\"].astype(float)\n",
    "\n",
    "GooglePlayStore_cols_df['Review_count'].fillna(0, inplace=True)\n",
    "GooglePlayStore_cols_df[\"Review_count\"] = GooglePlayStore_cols_df[\"Review_count\"].astype(int)\n",
    "\n",
    "\n",
    "#GooglePlayStore_cols_df.head()\n",
    "GooglePlayStore_cols_df = GooglePlayStore_cols_df[[\"App_Name\", \"App_Size\",\"currency\",\"App_Price\",\"Type\", \"Review_count\", \"User_Rating\",\"Content_Rating\", \"Category\"]]\n",
    "\n",
    "# Google App Name clean-up\n",
    "# Retain Alphanumeric and special characters in the string; Replace others with SPACES.\n",
    "\n",
    "Googl_App_Name = GooglePlayStore_cols_df.App_Name.apply(lambda x: re.sub(r'[^\\\\/@+\\-:,|#a-zA-Z0-9 ]+' , '', x))\n",
    "GooglePlayStore_cols_df['App_Name'] = Googl_App_Name\n",
    "\n",
    "GooglePlayStore_cols_df.head()\n",
    "\n",
    "# Write Googl_App_Details to CSV file for Data transformation\n",
    "G_filename = f\"Google_data_ext.csv\"\n",
    "GooglePlayStore_cols_df.to_csv(G_filename)\n"
   ]
  },
  {
   "cell_type": "markdown",
   "metadata": {},
   "source": [
    "## Extract and Clean-up AppleStore data."
   ]
  },
  {
   "cell_type": "code",
   "execution_count": 17,
   "metadata": {},
   "outputs": [],
   "source": [
    "# Import the Apple store data.\n",
    "#AppleStore_original = pd.read_csv(os.path.join('Resources', 'AppleStore.csv',encoding='UTF-8'))\n",
    "#A_Record_count = AppleStore_original.count()\n",
    "\n",
    "csv_path2 = \"Resources/AppleStore.csv\"\n",
    "AppleStore_original = pd.read_csv(csv_path2, encoding = 'UTF-8')\n",
    "\n",
    "# print(A_Record_count)\n",
    "# AppleStore_original.head()\n",
    "\n",
    "# iOS App Name clean-up\n",
    "\n",
    "# Retain Alphanumeric and special characters in the string; Replace others with SPACES.\n",
    "AppleStore_df = AppleStore_original.drop(['id', 'rating_count_ver', 'user_rating_ver', 'ver', 'sup_devices.num', 'ipadSc_urls.num','lang.num','vpp_lic' ], axis=1)\n",
    "AS_df=(AppleStore_df[['track_name', 'size_bytes', 'price','rating_count_tot','user_rating','cont_rating','prime_genre','currency']])\n",
    "AS_df = AS_df.assign(Type=\"\",currency=\"USD\" )\n",
    "\n",
    "#AS_df.head()\n",
    "\n",
    "# Column name convertion\n",
    "AppleStore_cols_df = AS_df.rename(\n",
    "   columns={\"track_name\": \"App_Name\",\n",
    "            \"size_bytes\": \"App_Size\",\n",
    "            \"currency\" : \"currency\",\n",
    "            \"price\": \"App_Price\",\n",
    "            \"Type\":\"Type\",\n",
    "            \"rating_count_tot\": \"Review_count\",\n",
    "            \"user_rating\": \"User_Rating\",\n",
    "            \"cont_rating\": \"Content_Rating\",\n",
    "            \"prime_genre\": \"Category\"\n",
    "           \n",
    "           })\n",
    "\n",
    "AppleStore_cols_df[\"App_Price\"] .fillna(0, inplace=True)\n",
    "AppleStore_cols_df[\"App_Price\"] = AppleStore_cols_df[\"App_Price\"].astype(float)\n",
    "\n",
    "AppleStore_cols_df['Review_count'].fillna(0, inplace=True)\n",
    "AppleStore_cols_df[\"Review_count\"] = AppleStore_cols_df[\"Review_count\"].astype(int)\n",
    "\n",
    "\n",
    "AppleStore_cols_df = AppleStore_cols_df[[\"App_Name\", \"App_Size\",\"currency\",\"App_Price\",\"Type\", \"Review_count\",\"User_Rating\",\"Content_Rating\",\"Category\"]]\n",
    "AppleStore_cols_df.head()\n",
    "\n",
    "# List of possible Alphanumeric values and special characters in App Name filed.\n",
    "\n",
    "valid_chars =  (r'[^ 0-9a-zA-Z\\/@+\\-:,|#]+')\n",
    "AAPL_App_Name = AppleStore_cols_df.App_Name.apply(lambda x: re.sub(valid_chars, '', x))\n",
    "AppleStore_cols_df['App_Name'] = AAPL_App_Name\n",
    "\n",
    "# Write APPL App Details to CSV file for Data transformation\n",
    "APPL_filename = f\"Apple_data_ext.csv\"\n",
    "AppleStore_cols_df.to_csv(APPL_filename)"
   ]
  },
  {
   "cell_type": "code",
   "execution_count": null,
   "metadata": {},
   "outputs": [],
   "source": [
    "\n",
    "\n",
    "\n"
   ]
  },
  {
   "cell_type": "code",
   "execution_count": null,
   "metadata": {},
   "outputs": [],
   "source": []
  },
  {
   "cell_type": "code",
   "execution_count": null,
   "metadata": {},
   "outputs": [],
   "source": []
  },
  {
   "cell_type": "markdown",
   "metadata": {},
   "source": [
    "7167                        脱出ゲーム　わたしをみつけて　-おじいさんとわたしの物語-\n",
    "7168                        Escape from the frigid Igloo.\n",
    "7169          Talking Santa - Video santa claus calls you\n",
    "7170                                            CTFxCmoji\n",
    "7171                      Room Escape Game - Santa's Room\n",
    "7172                                 Rescue the Enchanter\n",
    "7173                                   My Diary - 你的名字非官方\n",
    "7174    VR Thrills: Roller Coaster 360 (Google Cardboard)\n",
    "7175     Santa Kids Hair Salon - Christmas Makeover Games\n",
    "7176                                   Human Juggling Cup\n",
    "7177                             Again - room escape game\n",
    "7178                                    Saloons Unleashed\n",
    "7179               Fam — Group video calling for iMessage\n",
    "7180                     Laurie Hernandez the Human Emoji\n",
    "7181                                                 剑倚手游\n",
    "7182                                    camera for filter\n",
    "7183                                      Survivalcraft 2\n",
    "7184                                      剑客情缘-高爆率高掉落天天疯玩\n",
    "7185                                       问仙奇遇-新玩法新套装嗨到爆\n",
    "7186                   脱出ゲーム - 書道教室 -  \"漢字\"の謎に満ちた部屋からの 脱出\n",
    "7187                            Escape Game: illumination\n",
    "7188         Demolition Derby Virtual Reality (VR) Racing\n",
    "7189                           飞刀传奇-动作武侠热血江湖即时PK传奇（登录爆金装）\n"
   ]
  },
  {
   "cell_type": "code",
   "execution_count": null,
   "metadata": {},
   "outputs": [],
   "source": []
  }
 ],
 "metadata": {
  "kernelspec": {
   "display_name": "Python (PythonData)",
   "language": "python",
   "name": "pythondata"
  },
  "language_info": {
   "codemirror_mode": {
    "name": "ipython",
    "version": 3
   },
   "file_extension": ".py",
   "mimetype": "text/x-python",
   "name": "python",
   "nbconvert_exporter": "python",
   "pygments_lexer": "ipython3",
   "version": "3.7.2"
  }
 },
 "nbformat": 4,
 "nbformat_minor": 2
}
